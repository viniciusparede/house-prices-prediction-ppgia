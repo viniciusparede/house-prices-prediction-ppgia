{
 "cells": [
  {
   "attachments": {},
   "cell_type": "markdown",
   "metadata": {},
   "source": [
    "# Libraries"
   ]
  },
  {
   "cell_type": "code",
   "execution_count": 56,
   "metadata": {},
   "outputs": [],
   "source": [
    "# Basic Libraries\n",
    "import os\n",
    "import git\n",
    "\n",
    "# Data manipulation\n",
    "import pandas as pd\n",
    "import numpy as np\n",
    "\n",
    "# set the display option to show all columns\n",
    "pd.set_option(\"display.max_columns\", None)\n",
    "\n",
    "# Machine Learning algorithmics\n",
    "from sklearn.preprocessing import LabelEncoder\n",
    "from sklearn.preprocessing import StandardScaler\n",
    "from sklearn.preprocessing import KBinsDiscretizer\n",
    "from sklearn.preprocessing import MinMaxScaler\n",
    "from sklearn.metrics import confusion_matrix\n",
    "\n",
    "# Data visualization\n",
    "import seaborn as sns\n",
    "import matplotlib.pyplot as plt\n",
    "\n",
    "# Weka libraries\n",
    "import weka.core.jvm as jvm\n",
    "from weka.core.converters import Loader\n",
    "from weka.classifiers import Classifier, Evaluation\n",
    "from weka.attribute_selection import AttributeSelection\n",
    "from weka.core.classes import Random"
   ]
  },
  {
   "attachments": {},
   "cell_type": "markdown",
   "metadata": {},
   "source": [
    "# Functions"
   ]
  },
  {
   "cell_type": "code",
   "execution_count": 2,
   "metadata": {},
   "outputs": [],
   "source": [
    "# Função para encontrar diretório do repositório git\n",
    "def get_git_root(path: str) -> str:\n",
    "    git_repo = git.Repo(path, search_parent_directories=True)\n",
    "    git_root = git_repo.git.rev_parse(\"--show-toplevel\")\n",
    "    return git_root\n",
    "\n",
    "\n",
    "def encode_categorical(df: pd.DataFrame) -> pd.DataFrame:\n",
    "    \"\"\"\n",
    "    Converte atributos numéricos discretos de um DataFrame\n",
    "\n",
    "    :param df: DataFrame do Pandas para conversão\n",
    "    \"\"\"\n",
    "    # Instanciar um objeto LabelEncoder\n",
    "    le = LabelEncoder()\n",
    "\n",
    "    # Iterar sobre todas as colunas do DataFrame\n",
    "    for col in df.columns:\n",
    "        # Verificar se a coluna é do tipo \"object\", o que geralmente indica\n",
    "        # uma coluna categórica com strings\n",
    "        if df[col].dtype == \"object\":\n",
    "            # Se for uma coluna categórica, use o LabelEncoder para ajustar\n",
    "            # e transformar os dados, substituindo os valores originais\n",
    "            # pelos valores codificados como números inteiros\n",
    "            df[col] = le.fit_transform(df[col])\n",
    "\n",
    "    # Retornar o DataFrame com as colunas categóricas codificadas\n",
    "    return df\n",
    "\n",
    "\n",
    "def pandas2arff(\n",
    "    df, filename, wekaname=\"pandasdata\", cleanstringdata=True, cleannan=True\n",
    "):\n",
    "    \"\"\"\n",
    "    converts the pandas dataframe to a weka compatible file\n",
    "    df: dataframe in pandas format\n",
    "    filename: the filename you want the weka compatible file to be in\n",
    "    wekaname: the name you want to give to the weka dataset (this will be visible to you when you open it in Weka)\n",
    "    cleanstringdata: clean up data which may have spaces and replace with \"_\", special characters etc which seem to annoy Weka.\n",
    "                     To suppress this, set this to False\n",
    "    cleannan: replaces all nan values with \"?\" which is Weka's standard for missing values.\n",
    "              To suppress this, set this to False\n",
    "    \"\"\"\n",
    "    import re\n",
    "\n",
    "    def cleanstring(s):\n",
    "        if s != \"?\":\n",
    "            return re.sub(\"[^A-Za-z0-9]+\", \"_\", str(s))\n",
    "        else:\n",
    "            return \"?\"\n",
    "\n",
    "    dfcopy = df  # all cleaning operations get done on this copy\n",
    "\n",
    "    if cleannan != False:\n",
    "        dfcopy = dfcopy.fillna(\n",
    "            -999999999\n",
    "        )  # this is so that we can swap this out for \"?\"\n",
    "        # this makes sure that certain numerical columns with missing values don't get stuck with \"object\" type\n",
    "\n",
    "    # Diretório do repositório git\n",
    "    git_dir = get_git_root(os.getcwd())\n",
    "\n",
    "    # Diretório de arquivos de dados\n",
    "    data_dir = os.path.join(git_dir, \"data\")\n",
    "\n",
    "    f = open(os.path.join(data_dir, filename), \"w\")\n",
    "    arffList = []\n",
    "    arffList.append(\"@relation \" + wekaname + \"\\n\")\n",
    "    # look at each column's dtype. If it's an \"object\", make it \"nominal\" under Weka for now (can be changed in source for dates.. etc)\n",
    "    for i in range(df.shape[1]):\n",
    "        if dfcopy.dtypes[i] == \"O\" or (df.columns[i] in [\"Class\", \"CLASS\", \"class\"]):\n",
    "            if cleannan != False:\n",
    "                dfcopy.iloc[:, i] = dfcopy.iloc[:, i].replace(\n",
    "                    to_replace=-999999999, value=\"?\"\n",
    "                )\n",
    "            if cleanstringdata != False:\n",
    "                dfcopy.iloc[:, i] = dfcopy.iloc[:, i].apply(cleanstring)\n",
    "            _uniqueNominalVals = [str(_i) for _i in np.unique(dfcopy.iloc[:, i])]\n",
    "            _uniqueNominalVals = \",\".join(_uniqueNominalVals)\n",
    "            _uniqueNominalVals = _uniqueNominalVals.replace(\"[\", \"\")\n",
    "            _uniqueNominalVals = _uniqueNominalVals.replace(\"]\", \"\")\n",
    "            _uniqueValuesString = \"{\" + _uniqueNominalVals + \"}\"\n",
    "            arffList.append(\"@attribute \" + df.columns[i] + _uniqueValuesString + \"\\n\")\n",
    "        else:\n",
    "            arffList.append(\"@attribute \" + df.columns[i] + \" real\\n\")\n",
    "            # even if it is an integer, let's just deal with it as a real number for now\n",
    "    arffList.append(\"@data\\n\")\n",
    "    for i in range(dfcopy.shape[0]):  # instances\n",
    "        _instanceString = \"\"\n",
    "        for j in range(df.shape[1]):  # features\n",
    "            if dfcopy.dtypes[j] == \"O\":\n",
    "                _instanceString += '\"' + str(dfcopy.iloc[i, j]) + '\"'\n",
    "            else:\n",
    "                _instanceString += str(dfcopy.iloc[i, j])\n",
    "            if j != dfcopy.shape[1] - 1:  # if it's not the last feature, add a comma\n",
    "                _instanceString += \",\"\n",
    "        _instanceString += \"\\n\"\n",
    "        if cleannan != False:\n",
    "            _instanceString = _instanceString.replace(\n",
    "                \"-999999999.0\", \"?\"\n",
    "            )  # for numeric missing values\n",
    "            _instanceString = _instanceString.replace(\n",
    "                '\"?\"', \"?\"\n",
    "            )  # for categorical missing values\n",
    "        arffList.append(_instanceString)\n",
    "    f.writelines(arffList)\n",
    "    f.close()\n",
    "    del dfcopy\n",
    "    return True\n",
    "\n",
    "\n",
    "def evaluation_to_dataframe(predictions: list) -> pd.DataFrame:\n",
    "    # Criar lista de dicionários com informações de previsão e distribuição usando list comprehension\n",
    "    prediction_dict_list = [\n",
    "        {\n",
    "            \"predicted\": nominal_prediction.predicted,\n",
    "            \"actual\": nominal_prediction.actual,\n",
    "            \"distribution\": nominal_prediction.distribution.tolist(),\n",
    "            \"weight\": nominal_prediction.weight,\n",
    "        }\n",
    "        for nominal_prediction in predictions\n",
    "    ]\n",
    "\n",
    "    # Gerar dataframe pandas a partir da lista de dicionários\n",
    "    predictions_df = pd.DataFrame(prediction_dict_list)\n",
    "\n",
    "    # Adicionar coluna que indica se a previsão foi correta ou não\n",
    "    predictions_df[\"correct\"] = predictions_df[\"predicted\"] == predictions_df[\"actual\"]\n",
    "\n",
    "    return predictions_df"
   ]
  },
  {
   "attachments": {},
   "cell_type": "markdown",
   "metadata": {},
   "source": [
    "# Data Load"
   ]
  },
  {
   "cell_type": "code",
   "execution_count": 3,
   "metadata": {},
   "outputs": [],
   "source": [
    "# Diretório do repositório git\n",
    "git_dir = get_git_root(os.getcwd())\n",
    "\n",
    "# Diretório dos dados\n",
    "data_dir = os.path.join(git_dir, \"data\")\n",
    "\n",
    "# Leitura dos arquivos de treinamento e teste\n",
    "df_train = pd.read_csv(os.path.join(data_dir, \"train.csv\"))\n",
    "test_input = pd.read_csv(os.path.join(data_dir, \"test.csv\"))\n",
    "sample_output = pd.read_csv(os.path.join(data_dir, \"sample_submission.csv\"))\n",
    "\n",
    "# merge entre dataframes\n",
    "df_test = pd.merge(test_input, sample_output, how=\"inner\", on=\"Id\")"
   ]
  },
  {
   "cell_type": "code",
   "execution_count": 4,
   "metadata": {},
   "outputs": [],
   "source": [
    "# carregando os datos de treinamento e validação\n",
    "train = df_train.copy()\n",
    "test = df_test.copy()"
   ]
  },
  {
   "attachments": {},
   "cell_type": "markdown",
   "metadata": {},
   "source": [
    "# Classification Analysis"
   ]
  },
  {
   "attachments": {},
   "cell_type": "markdown",
   "metadata": {},
   "source": [
    "## Data treatment and cleaning"
   ]
  },
  {
   "cell_type": "code",
   "execution_count": 5,
   "metadata": {},
   "outputs": [
    {
     "data": {
      "text/html": [
       "<div>\n",
       "<style scoped>\n",
       "    .dataframe tbody tr th:only-of-type {\n",
       "        vertical-align: middle;\n",
       "    }\n",
       "\n",
       "    .dataframe tbody tr th {\n",
       "        vertical-align: top;\n",
       "    }\n",
       "\n",
       "    .dataframe thead th {\n",
       "        text-align: right;\n",
       "    }\n",
       "</style>\n",
       "<table border=\"1\" class=\"dataframe\">\n",
       "  <thead>\n",
       "    <tr style=\"text-align: right;\">\n",
       "      <th></th>\n",
       "      <th>Total</th>\n",
       "      <th>Percentage</th>\n",
       "    </tr>\n",
       "  </thead>\n",
       "  <tbody>\n",
       "    <tr>\n",
       "      <th>PoolQC</th>\n",
       "      <td>1453</td>\n",
       "      <td>99.520548</td>\n",
       "    </tr>\n",
       "    <tr>\n",
       "      <th>MiscFeature</th>\n",
       "      <td>1406</td>\n",
       "      <td>96.301370</td>\n",
       "    </tr>\n",
       "    <tr>\n",
       "      <th>Alley</th>\n",
       "      <td>1369</td>\n",
       "      <td>93.767123</td>\n",
       "    </tr>\n",
       "    <tr>\n",
       "      <th>Fence</th>\n",
       "      <td>1179</td>\n",
       "      <td>80.753425</td>\n",
       "    </tr>\n",
       "    <tr>\n",
       "      <th>MasVnrType</th>\n",
       "      <td>872</td>\n",
       "      <td>59.726027</td>\n",
       "    </tr>\n",
       "    <tr>\n",
       "      <th>FireplaceQu</th>\n",
       "      <td>690</td>\n",
       "      <td>47.260274</td>\n",
       "    </tr>\n",
       "    <tr>\n",
       "      <th>LotFrontage</th>\n",
       "      <td>259</td>\n",
       "      <td>17.739726</td>\n",
       "    </tr>\n",
       "    <tr>\n",
       "      <th>GarageType</th>\n",
       "      <td>81</td>\n",
       "      <td>5.547945</td>\n",
       "    </tr>\n",
       "    <tr>\n",
       "      <th>GarageYrBlt</th>\n",
       "      <td>81</td>\n",
       "      <td>5.547945</td>\n",
       "    </tr>\n",
       "    <tr>\n",
       "      <th>GarageFinish</th>\n",
       "      <td>81</td>\n",
       "      <td>5.547945</td>\n",
       "    </tr>\n",
       "    <tr>\n",
       "      <th>GarageQual</th>\n",
       "      <td>81</td>\n",
       "      <td>5.547945</td>\n",
       "    </tr>\n",
       "    <tr>\n",
       "      <th>GarageCond</th>\n",
       "      <td>81</td>\n",
       "      <td>5.547945</td>\n",
       "    </tr>\n",
       "    <tr>\n",
       "      <th>BsmtFinType2</th>\n",
       "      <td>38</td>\n",
       "      <td>2.602740</td>\n",
       "    </tr>\n",
       "    <tr>\n",
       "      <th>BsmtExposure</th>\n",
       "      <td>38</td>\n",
       "      <td>2.602740</td>\n",
       "    </tr>\n",
       "    <tr>\n",
       "      <th>BsmtFinType1</th>\n",
       "      <td>37</td>\n",
       "      <td>2.534247</td>\n",
       "    </tr>\n",
       "    <tr>\n",
       "      <th>BsmtCond</th>\n",
       "      <td>37</td>\n",
       "      <td>2.534247</td>\n",
       "    </tr>\n",
       "    <tr>\n",
       "      <th>BsmtQual</th>\n",
       "      <td>37</td>\n",
       "      <td>2.534247</td>\n",
       "    </tr>\n",
       "    <tr>\n",
       "      <th>MasVnrArea</th>\n",
       "      <td>8</td>\n",
       "      <td>0.547945</td>\n",
       "    </tr>\n",
       "    <tr>\n",
       "      <th>Electrical</th>\n",
       "      <td>1</td>\n",
       "      <td>0.068493</td>\n",
       "    </tr>\n",
       "  </tbody>\n",
       "</table>\n",
       "</div>"
      ],
      "text/plain": [
       "              Total  Percentage\n",
       "PoolQC         1453   99.520548\n",
       "MiscFeature    1406   96.301370\n",
       "Alley          1369   93.767123\n",
       "Fence          1179   80.753425\n",
       "MasVnrType      872   59.726027\n",
       "FireplaceQu     690   47.260274\n",
       "LotFrontage     259   17.739726\n",
       "GarageType       81    5.547945\n",
       "GarageYrBlt      81    5.547945\n",
       "GarageFinish     81    5.547945\n",
       "GarageQual       81    5.547945\n",
       "GarageCond       81    5.547945\n",
       "BsmtFinType2     38    2.602740\n",
       "BsmtExposure     38    2.602740\n",
       "BsmtFinType1     37    2.534247\n",
       "BsmtCond         37    2.534247\n",
       "BsmtQual         37    2.534247\n",
       "MasVnrArea        8    0.547945\n",
       "Electrical        1    0.068493"
      ]
     },
     "execution_count": 5,
     "metadata": {},
     "output_type": "execute_result"
    }
   ],
   "source": [
    "# Calcular a porcentagem de valores ausentes em cada coluna com valores ausentes maiores que 0\n",
    "missing_data = train.isnull().sum()[train.isnull().sum() > 0]\n",
    "missing_data_percentage = missing_data / len(train) * 100\n",
    "\n",
    "# Combinar as informações em um dataframe\n",
    "missing_data_df = pd.concat(\n",
    "    [missing_data, missing_data_percentage], axis=1, keys=[\"Total\", \"Percentage\"]\n",
    ")\n",
    "\n",
    "# Ordenar os valores pela porcentagem de valores ausentes em ordem decrescente\n",
    "missing_data_df = missing_data_df.sort_values(by=\"Percentage\", ascending=False)\n",
    "\n",
    "missing_data_df"
   ]
  },
  {
   "cell_type": "code",
   "execution_count": 6,
   "metadata": {},
   "outputs": [],
   "source": [
    "# Lista de colunas que precisam ser preenchidas com \"NA\"\n",
    "cols_to_fillna = [\n",
    "    \"PoolQC\",\n",
    "    \"MiscFeature\",\n",
    "    \"Alley\",\n",
    "    \"Fence\",\n",
    "    \"MasVnrType\",\n",
    "    \"FireplaceQu\",\n",
    "    \"GarageType\",\n",
    "    \"GarageFinish\",\n",
    "    \"GarageQual\",\n",
    "    \"GarageCond\",\n",
    "    \"BsmtExposure\",\n",
    "    \"BsmtFinType2\",\n",
    "    \"BsmtFinType1\",\n",
    "    \"BsmtCond\",\n",
    "    \"BsmtQual\",\n",
    "]\n",
    "\n",
    "# Usando uma compreensão de lista para preencher os valores ausentes com \"NA\" em cada coluna\n",
    "for col in cols_to_fillna:\n",
    "    train[col].fillna(\"NA\", inplace=True)\n",
    "\n",
    "# Preenchendo os valores ausentes no atributo \"LotFrontage\" com o valor padrão \"0\"\n",
    "train[\"LotFrontage\"].fillna(0, inplace=True)\n",
    "\n",
    "# Preenchendo os valores ausentes no atributo \"GarageYrBlt\" com o valor padrão \"0\"\n",
    "train[\"GarageYrBlt\"].fillna(0, inplace=True)\n",
    "\n",
    "# Excluindo as instâncias com valores ausentes (conjunto pequeno em relação ao tamanho do conjunto de dados)\n",
    "cols_to_dropna = [\"MasVnrArea\", \"Electrical\"]\n",
    "train.dropna(subset=cols_to_dropna, inplace=True)"
   ]
  },
  {
   "cell_type": "code",
   "execution_count": 7,
   "metadata": {},
   "outputs": [],
   "source": [
    "# retirar a coluna id\n",
    "train.drop(columns=[\"Id\"], inplace=True)"
   ]
  },
  {
   "cell_type": "code",
   "execution_count": 8,
   "metadata": {},
   "outputs": [],
   "source": [
    "# Chamando a função encode_categorical() para aplicar LabelEncoder em variáveis categóricas\n",
    "train = encode_categorical(train)"
   ]
  },
  {
   "cell_type": "code",
   "execution_count": 10,
   "metadata": {},
   "outputs": [
    {
     "data": {
      "text/html": [
       "<div>\n",
       "<style scoped>\n",
       "    .dataframe tbody tr th:only-of-type {\n",
       "        vertical-align: middle;\n",
       "    }\n",
       "\n",
       "    .dataframe tbody tr th {\n",
       "        vertical-align: top;\n",
       "    }\n",
       "\n",
       "    .dataframe thead th {\n",
       "        text-align: right;\n",
       "    }\n",
       "</style>\n",
       "<table border=\"1\" class=\"dataframe\">\n",
       "  <thead>\n",
       "    <tr style=\"text-align: right;\">\n",
       "      <th></th>\n",
       "      <th>Total</th>\n",
       "      <th>Percentage</th>\n",
       "    </tr>\n",
       "  </thead>\n",
       "  <tbody>\n",
       "    <tr>\n",
       "      <th>PoolQC</th>\n",
       "      <td>1456</td>\n",
       "      <td>99.794380</td>\n",
       "    </tr>\n",
       "    <tr>\n",
       "      <th>MiscFeature</th>\n",
       "      <td>1408</td>\n",
       "      <td>96.504455</td>\n",
       "    </tr>\n",
       "    <tr>\n",
       "      <th>Alley</th>\n",
       "      <td>1352</td>\n",
       "      <td>92.666210</td>\n",
       "    </tr>\n",
       "    <tr>\n",
       "      <th>Fence</th>\n",
       "      <td>1169</td>\n",
       "      <td>80.123372</td>\n",
       "    </tr>\n",
       "    <tr>\n",
       "      <th>MasVnrType</th>\n",
       "      <td>894</td>\n",
       "      <td>61.274846</td>\n",
       "    </tr>\n",
       "    <tr>\n",
       "      <th>FireplaceQu</th>\n",
       "      <td>730</td>\n",
       "      <td>50.034270</td>\n",
       "    </tr>\n",
       "    <tr>\n",
       "      <th>LotFrontage</th>\n",
       "      <td>227</td>\n",
       "      <td>15.558602</td>\n",
       "    </tr>\n",
       "    <tr>\n",
       "      <th>GarageCond</th>\n",
       "      <td>78</td>\n",
       "      <td>5.346127</td>\n",
       "    </tr>\n",
       "    <tr>\n",
       "      <th>GarageYrBlt</th>\n",
       "      <td>78</td>\n",
       "      <td>5.346127</td>\n",
       "    </tr>\n",
       "    <tr>\n",
       "      <th>GarageQual</th>\n",
       "      <td>78</td>\n",
       "      <td>5.346127</td>\n",
       "    </tr>\n",
       "    <tr>\n",
       "      <th>GarageFinish</th>\n",
       "      <td>78</td>\n",
       "      <td>5.346127</td>\n",
       "    </tr>\n",
       "    <tr>\n",
       "      <th>GarageType</th>\n",
       "      <td>76</td>\n",
       "      <td>5.209047</td>\n",
       "    </tr>\n",
       "    <tr>\n",
       "      <th>BsmtCond</th>\n",
       "      <td>45</td>\n",
       "      <td>3.084304</td>\n",
       "    </tr>\n",
       "    <tr>\n",
       "      <th>BsmtExposure</th>\n",
       "      <td>44</td>\n",
       "      <td>3.015764</td>\n",
       "    </tr>\n",
       "    <tr>\n",
       "      <th>BsmtQual</th>\n",
       "      <td>44</td>\n",
       "      <td>3.015764</td>\n",
       "    </tr>\n",
       "    <tr>\n",
       "      <th>BsmtFinType1</th>\n",
       "      <td>42</td>\n",
       "      <td>2.878684</td>\n",
       "    </tr>\n",
       "    <tr>\n",
       "      <th>BsmtFinType2</th>\n",
       "      <td>42</td>\n",
       "      <td>2.878684</td>\n",
       "    </tr>\n",
       "    <tr>\n",
       "      <th>MasVnrArea</th>\n",
       "      <td>15</td>\n",
       "      <td>1.028101</td>\n",
       "    </tr>\n",
       "    <tr>\n",
       "      <th>MSZoning</th>\n",
       "      <td>4</td>\n",
       "      <td>0.274160</td>\n",
       "    </tr>\n",
       "    <tr>\n",
       "      <th>BsmtFullBath</th>\n",
       "      <td>2</td>\n",
       "      <td>0.137080</td>\n",
       "    </tr>\n",
       "    <tr>\n",
       "      <th>BsmtHalfBath</th>\n",
       "      <td>2</td>\n",
       "      <td>0.137080</td>\n",
       "    </tr>\n",
       "    <tr>\n",
       "      <th>Functional</th>\n",
       "      <td>2</td>\n",
       "      <td>0.137080</td>\n",
       "    </tr>\n",
       "    <tr>\n",
       "      <th>Utilities</th>\n",
       "      <td>2</td>\n",
       "      <td>0.137080</td>\n",
       "    </tr>\n",
       "    <tr>\n",
       "      <th>GarageCars</th>\n",
       "      <td>1</td>\n",
       "      <td>0.068540</td>\n",
       "    </tr>\n",
       "    <tr>\n",
       "      <th>GarageArea</th>\n",
       "      <td>1</td>\n",
       "      <td>0.068540</td>\n",
       "    </tr>\n",
       "    <tr>\n",
       "      <th>TotalBsmtSF</th>\n",
       "      <td>1</td>\n",
       "      <td>0.068540</td>\n",
       "    </tr>\n",
       "    <tr>\n",
       "      <th>KitchenQual</th>\n",
       "      <td>1</td>\n",
       "      <td>0.068540</td>\n",
       "    </tr>\n",
       "    <tr>\n",
       "      <th>BsmtUnfSF</th>\n",
       "      <td>1</td>\n",
       "      <td>0.068540</td>\n",
       "    </tr>\n",
       "    <tr>\n",
       "      <th>BsmtFinSF2</th>\n",
       "      <td>1</td>\n",
       "      <td>0.068540</td>\n",
       "    </tr>\n",
       "    <tr>\n",
       "      <th>BsmtFinSF1</th>\n",
       "      <td>1</td>\n",
       "      <td>0.068540</td>\n",
       "    </tr>\n",
       "    <tr>\n",
       "      <th>Exterior2nd</th>\n",
       "      <td>1</td>\n",
       "      <td>0.068540</td>\n",
       "    </tr>\n",
       "    <tr>\n",
       "      <th>Exterior1st</th>\n",
       "      <td>1</td>\n",
       "      <td>0.068540</td>\n",
       "    </tr>\n",
       "    <tr>\n",
       "      <th>SaleType</th>\n",
       "      <td>1</td>\n",
       "      <td>0.068540</td>\n",
       "    </tr>\n",
       "  </tbody>\n",
       "</table>\n",
       "</div>"
      ],
      "text/plain": [
       "              Total  Percentage\n",
       "PoolQC         1456   99.794380\n",
       "MiscFeature    1408   96.504455\n",
       "Alley          1352   92.666210\n",
       "Fence          1169   80.123372\n",
       "MasVnrType      894   61.274846\n",
       "FireplaceQu     730   50.034270\n",
       "LotFrontage     227   15.558602\n",
       "GarageCond       78    5.346127\n",
       "GarageYrBlt      78    5.346127\n",
       "GarageQual       78    5.346127\n",
       "GarageFinish     78    5.346127\n",
       "GarageType       76    5.209047\n",
       "BsmtCond         45    3.084304\n",
       "BsmtExposure     44    3.015764\n",
       "BsmtQual         44    3.015764\n",
       "BsmtFinType1     42    2.878684\n",
       "BsmtFinType2     42    2.878684\n",
       "MasVnrArea       15    1.028101\n",
       "MSZoning          4    0.274160\n",
       "BsmtFullBath      2    0.137080\n",
       "BsmtHalfBath      2    0.137080\n",
       "Functional        2    0.137080\n",
       "Utilities         2    0.137080\n",
       "GarageCars        1    0.068540\n",
       "GarageArea        1    0.068540\n",
       "TotalBsmtSF       1    0.068540\n",
       "KitchenQual       1    0.068540\n",
       "BsmtUnfSF         1    0.068540\n",
       "BsmtFinSF2        1    0.068540\n",
       "BsmtFinSF1        1    0.068540\n",
       "Exterior2nd       1    0.068540\n",
       "Exterior1st       1    0.068540\n",
       "SaleType          1    0.068540"
      ]
     },
     "execution_count": 10,
     "metadata": {},
     "output_type": "execute_result"
    }
   ],
   "source": [
    "# Calcular a porcentagem de valores ausentes em cada coluna com valores ausentes maiores que 0\n",
    "missing_data = test.isnull().sum()[test.isnull().sum() > 0]\n",
    "missing_data_percentage = missing_data / len(test) * 100\n",
    "\n",
    "# Combinar as informações em um dataframe\n",
    "missing_data_df = pd.concat(\n",
    "    [missing_data, missing_data_percentage], axis=1, keys=[\"Total\", \"Percentage\"]\n",
    ")\n",
    "\n",
    "# Ordenar os valores pela porcentagem de valores ausentes em ordem decrescente\n",
    "missing_data_df = missing_data_df.sort_values(by=\"Percentage\", ascending=False)\n",
    "\n",
    "missing_data_df"
   ]
  },
  {
   "cell_type": "code",
   "execution_count": 11,
   "metadata": {},
   "outputs": [],
   "source": [
    "# Lista de colunas que precisam ser preenchidas com \"NA\"\n",
    "cols_to_fillna = [\n",
    "    \"PoolQC\",\n",
    "    \"MiscFeature\",\n",
    "    \"Alley\",\n",
    "    \"Fence\",\n",
    "    \"FireplaceQu\",\n",
    "    \"GarageType\",\n",
    "    \"GarageFinish\",\n",
    "    \"GarageQual\",\n",
    "    \"GarageCond\",\n",
    "    \"BsmtExposure\",\n",
    "    \"BsmtFinType2\",\n",
    "    \"BsmtFinType1\",\n",
    "    \"BsmtCond\",\n",
    "    \"BsmtQual\",\n",
    "]\n",
    "\n",
    "# Usando uma compreensão de lista para preencher os valores ausentes com \"NA\" em cada coluna\n",
    "for col in cols_to_fillna:\n",
    "    test[col].fillna(\"NA\", inplace=True)\n",
    "\n",
    "test[\"MasVnrType\"].fillna(\"None\", inplace=True)\n",
    "\n",
    "# Preenchendo os valores ausentes no atributo \"LotFrontage\" com o valor padrão \"0\"\n",
    "test[\"LotFrontage\"].fillna(0, inplace=True)\n",
    "\n",
    "# Preenchendo os valores ausentes no atributo \"GarageYrBlt\" com o valor padrão \"0\"\n",
    "test[\"GarageYrBlt\"].fillna(0, inplace=True)\n",
    "\n",
    "# Preenchendo os valores ausentes no atributo \"MasVnrArea\" com o valor padrão \"0\"\n",
    "test[\"MasVnrArea\"].fillna(0, inplace=True)\n",
    "\n",
    "# Excluindo as instâncias com valores ausentes (conjunto pequeno em relação ao tamanho do conjunto de dados)\n",
    "cols_to_dropna = [\n",
    "    \"MSZoning\",\n",
    "    \"BsmtFullBath\",\n",
    "    \"BsmtHalfBath\",\n",
    "    \"Functional\",\n",
    "    \"Utilities\",\n",
    "    \"GarageCars\",\n",
    "    \"GarageArea\",\n",
    "    \"TotalBsmtSF\",\n",
    "    \"KitchenQual\",\n",
    "    \"BsmtUnfSF\",\n",
    "    \"BsmtFinSF2\",\n",
    "    \"BsmtFinSF1\",\n",
    "    \"Exterior2nd\",\n",
    "    \"Exterior1st\",\n",
    "    \"SaleType\"\n",
    "]\n",
    "test.dropna(subset=cols_to_dropna, inplace=True)"
   ]
  },
  {
   "cell_type": "code",
   "execution_count": 12,
   "metadata": {},
   "outputs": [],
   "source": [
    "# retirar a coluna id\n",
    "test.drop(columns=[\"Id\"], inplace=True)"
   ]
  },
  {
   "cell_type": "code",
   "execution_count": 13,
   "metadata": {},
   "outputs": [],
   "source": [
    "# Chamando a função encode_categorical() para aplicar LabelEncoder em variáveis categóricas\n",
    "test = encode_categorical(test)"
   ]
  },
  {
   "attachments": {},
   "cell_type": "markdown",
   "metadata": {},
   "source": [
    "## Discretizer Sale Price"
   ]
  },
  {
   "cell_type": "code",
   "execution_count": 14,
   "metadata": {},
   "outputs": [],
   "source": [
    "target_variable = \"SalePrice\"\n",
    "\n",
    "# Ajustar e transformar os dados de treinamento e teste com MinMaxScaler\n",
    "scaler = MinMaxScaler()\n",
    "train_scaled = scaler.fit_transform(train[[target_variable]])\n",
    "test_scaled = scaler.fit_transform(test[[target_variable]])\n",
    "\n",
    "# Instanciar a classe KBinsDiscretizer com 5 bins (faixas)\n",
    "discretizer = KBinsDiscretizer(n_bins=5, encode=\"ordinal\", strategy=\"quantile\")\n",
    "\n",
    "# Aplicar o discretizer nos dados 'SalePrice' escalonados\n",
    "train_preco_discretizado = discretizer.fit_transform(train_scaled)\n",
    "test_preco_discretizado = discretizer.fit_transform(test_scaled)\n",
    "\n",
    "# Adicionar a nova coluna de categorias ao dataframe original\n",
    "train[\"SalePriceCategorical\"] = pd.Series(train_preco_discretizado.reshape(-1))\n",
    "test[\"SalePriceCategorical\"] = pd.Series(test_preco_discretizado.reshape(-1))\n",
    "\n",
    "target_variable = \"SalePriceCategorical\"\n",
    "\n",
    "# Renomear as categorias\n",
    "train[target_variable].replace(\n",
    "    {\n",
    "        0: \"House Price 1\",\n",
    "        1: \"House Price 2\",\n",
    "        2: \"House Price 3\",\n",
    "        3: \"House Price 4\",\n",
    "        4: \"House Price 5\",\n",
    "    },\n",
    "    inplace=True,\n",
    ")\n",
    "test[target_variable].replace(\n",
    "    {\n",
    "        0: \"House Price 1\",\n",
    "        1: \"House Price 2\",\n",
    "        2: \"House Price 3\",\n",
    "        3: \"House Price 4\",\n",
    "        4: \"House Price 5\",\n",
    "    },\n",
    "    inplace=True,\n",
    ")\n",
    "\n",
    "train.dropna(inplace=True)\n",
    "test.dropna(inplace=True)"
   ]
  },
  {
   "attachments": {},
   "cell_type": "markdown",
   "metadata": {},
   "source": [
    "## Standard Data"
   ]
  },
  {
   "cell_type": "code",
   "execution_count": 15,
   "metadata": {},
   "outputs": [],
   "source": [
    "# Padronizar as entradas do modelo\n",
    "\n",
    "# Criar um objeto StandardScaler\n",
    "scaler = StandardScaler()\n",
    "\n",
    "columns_to_standardize = [\n",
    "    \"LotArea\",\n",
    "    \"BsmtFinSF1\",\n",
    "    \"BsmtFinSF2\",\n",
    "    \"BsmtUnfSF\",\n",
    "    \"TotalBsmtSF\",\n",
    "    \"1stFlrSF\",\n",
    "    \"2ndFlrSF\",\n",
    "    \"LowQualFinSF\",\n",
    "    \"GrLivArea\",\n",
    "    \"GarageArea\",\n",
    "    \"WoodDeckSF\",\n",
    "    \"OpenPorchSF\",\n",
    "    \"EnclosedPorch\",\n",
    "    \"3SsnPorch\",\n",
    "    \"ScreenPorch\",\n",
    "    \"PoolArea\",\n",
    "    \"MiscVal\",\n",
    "    \"LotFrontage\",\n",
    "    \"MasVnrArea\",\n",
    "]\n",
    "\n",
    "# Padronizando as colunas selecionadas\n",
    "train[columns_to_standardize] = scaler.fit_transform(train[columns_to_standardize])\n",
    "test[columns_to_standardize] = scaler.fit_transform(test[columns_to_standardize])"
   ]
  },
  {
   "attachments": {},
   "cell_type": "markdown",
   "metadata": {},
   "source": [
    "## ARFF Files - Use in Weka"
   ]
  },
  {
   "cell_type": "code",
   "execution_count": 16,
   "metadata": {},
   "outputs": [
    {
     "name": "stdout",
     "output_type": "stream",
     "text": [
      "[]\n"
     ]
    }
   ],
   "source": [
    "# Diretório do repositório git\n",
    "git_dir = get_git_root(os.getcwd())\n",
    "\n",
    "# Diretório de arquivos de dados\n",
    "data_dir = os.path.join(git_dir, \"data\")\n",
    "\n",
    "# Definir o diretório onde os arquivos estão localizados\n",
    "dir = data_dir\n",
    "\n",
    "# Iterar sobre os arquivos no diretório e verificar se a extensão é .arff\n",
    "arquivos_arff = [arquivo for arquivo in os.listdir(dir) if arquivo.endswith(\".arff\")]\n",
    "\n",
    "\n",
    "# Exibir os arquivos encontrados\n",
    "print(arquivos_arff)\n",
    "\n",
    "\n",
    "if not arquivos_arff in [\"train.arff\", \"test.arff\"]:\n",
    "    # converter dataframe pandas para arquivo arff\n",
    "    pandas2arff(train.drop(columns=\"SalePrice\"), \"train.arff\", wekaname=\"train_data\")\n",
    "    pandas2arff(test.drop(columns=\"SalePrice\"), \"test.arff\", wekaname=\"test_data\")\n"
   ]
  },
  {
   "cell_type": "code",
   "execution_count": 17,
   "metadata": {},
   "outputs": [
    {
     "name": "stderr",
     "output_type": "stream",
     "text": [
      "DEBUG:weka.core.jvm:Adding bundled jars\n",
      "DEBUG:weka.core.jvm:Classpath=['C:\\\\Users\\\\vinic\\\\repositories\\\\house-prices-prediction-ppgia\\\\.env\\\\Lib\\\\site-packages\\\\javabridge\\\\jars\\\\rhino-1.7R4.jar', 'C:\\\\Users\\\\vinic\\\\repositories\\\\house-prices-prediction-ppgia\\\\.env\\\\Lib\\\\site-packages\\\\javabridge\\\\jars\\\\runnablequeue.jar', 'C:\\\\Users\\\\vinic\\\\repositories\\\\house-prices-prediction-ppgia\\\\.env\\\\Lib\\\\site-packages\\\\javabridge\\\\jars\\\\cpython.jar', 'c:\\\\Users\\\\vinic\\\\repositories\\\\house-prices-prediction-ppgia\\\\.env\\\\lib\\\\site-packages\\\\weka\\\\lib\\\\python-weka-wrapper.jar', 'c:\\\\Users\\\\vinic\\\\repositories\\\\house-prices-prediction-ppgia\\\\.env\\\\lib\\\\site-packages\\\\weka\\\\lib\\\\weka.jar']\n",
      "DEBUG:weka.core.jvm:MaxHeapSize=default\n",
      "DEBUG:weka.core.jvm:Package support disabled\n"
     ]
    }
   ],
   "source": [
    "# Inicializar JVM\n",
    "jvm.start()\n",
    "\n",
    "# Diretório do repositório git\n",
    "git_dir = get_git_root(os.getcwd())\n",
    "\n",
    "# Diretório de dados de entrada\n",
    "data_dir = os.path.join(git_dir, \"data\")\n",
    "\n",
    "# Diretório de arquivos de saída\n",
    "output_dir = os.path.join(git_dir, \"output\")\n",
    "\n",
    "# Carregar o conjunto de dados\n",
    "loader = Loader(\"weka.core.converters.ArffLoader\")\n",
    "train_data = loader.load_file(os.path.join(data_dir, \"train.arff\"))\n",
    "test_data = loader.load_file(os.path.join(data_dir, \"test.arff\"))\n",
    "\n",
    "# usado para informar ao Weka que a classe é a última coluna do conjunto de dados\n",
    "train_data.class_is_last()\n",
    "test_data.class_is_last()"
   ]
  },
  {
   "attachments": {},
   "cell_type": "markdown",
   "metadata": {},
   "source": [
    "## C4.5"
   ]
  },
  {
   "cell_type": "code",
   "execution_count": 18,
   "metadata": {},
   "outputs": [],
   "source": [
    "# Instanciar o classificador C45\n",
    "c45 = Classifier(classname=\"weka.classifiers.trees.J48\")\n",
    "\n",
    "# Treinar o algoritmo usando o conjunto de dados de treinamento\n",
    "c45.build_classifier(train_data)\n",
    "\n",
    "# Salvar a árvore em formato .dot\n",
    "with open(os.path.join(output_dir, \"c45tree.dot\"), \"w\") as f:\n",
    "    f.write(c45.graph)\n",
    "\n",
    "# Converter o arquivo .dot em um arquivo .pdf\n",
    "os.system(\n",
    "    f\"dot -Tpdf {os.path.join(output_dir, 'c45tree.dot')} -o {os.path.join(output_dir, 'c45tree.pdf')}\"\n",
    ")\n",
    "\n",
    "os.remove(os.path.join(output_dir, \"c45tree.dot\"))"
   ]
  },
  {
   "attachments": {},
   "cell_type": "markdown",
   "metadata": {},
   "source": [
    "### C4.5 Accuracy crossvalidate_model\n",
    "Utilizar a validação cruzada no mesmo dataset de treino"
   ]
  },
  {
   "cell_type": "code",
   "execution_count": 19,
   "metadata": {},
   "outputs": [
    {
     "name": "stdout",
     "output_type": "stream",
     "text": [
      "Taxa de acerto geral [C4.5]: 23.9251040221914\n"
     ]
    }
   ],
   "source": [
    "# Avaliar o classificador REPtree usando validação cruzada de 10 folds\n",
    "evaluation = Evaluation(train_data)\n",
    "evaluation.crossvalidate_model(c45, train_data, 10, Random(1))\n",
    "\n",
    "# Imprimir a taxa de acerto geral do modelo\n",
    "print(\"Taxa de acerto geral [C4.5]:\", evaluation.percent_correct)"
   ]
  },
  {
   "attachments": {},
   "cell_type": "markdown",
   "metadata": {},
   "source": [
    "### C4.5 Confusion Matrix crossvalidate_model"
   ]
  },
  {
   "cell_type": "code",
   "execution_count": 20,
   "metadata": {},
   "outputs": [
    {
     "data": {
      "image/png": "[encoded data removed]",
      "text/plain": [
       "<Figure size 1000x700 with 2 Axes>"
      ]
     },
     "metadata": {},
     "output_type": "display_data"
    }
   ],
   "source": [
    "# Obter as previsões do modelo para o conjunto de teste\n",
    "c45_predictions = evaluation.predictions\n",
    "\n",
    "# Retonar o dataframe\n",
    "c45_predictions_df = evaluation_to_dataframe(c45_predictions)\n",
    "\n",
    "# Gerar matriz de confusão\n",
    "conf_matrix = confusion_matrix(\n",
    "    c45_predictions_df[\"actual\"], c45_predictions_df[\"predicted\"]\n",
    ")\n",
    "\n",
    "# Criar um gráfico de heatmap com a matriz de confusão\n",
    "plt.figure(figsize=(10, 7))\n",
    "sns.heatmap(conf_matrix, annot=True, fmt=\"g\", cmap=\"Blues\")\n",
    "plt.xlabel(\"Predição\")\n",
    "plt.ylabel(\"Verdadeiro\")\n",
    "plt.title(\"Matriz de Confusão\")\n",
    "plt.show()"
   ]
  },
  {
   "attachments": {},
   "cell_type": "markdown",
   "metadata": {},
   "source": [
    "### C4.5 Accuracy test_model\n",
    "Utilizar a validação passando o dados de teste e treinar modelo com todos os dados"
   ]
  },
  {
   "cell_type": "code",
   "execution_count": 21,
   "metadata": {},
   "outputs": [
    {
     "name": "stdout",
     "output_type": "stream",
     "text": [
      "Taxa de acerto geral [C4.5]: 18.67595818815331\n"
     ]
    }
   ],
   "source": [
    "evaluation = Evaluation(test_data)\n",
    "evaluation.test_model(c45, test_data)\n",
    "\n",
    "# Imprimir a taxa de acerto geral do modelo\n",
    "print(\"Taxa de acerto geral [C4.5]:\", evaluation.percent_correct)"
   ]
  },
  {
   "attachments": {},
   "cell_type": "markdown",
   "metadata": {},
   "source": [
    "### C4.5 Confusion Matrix test_model\n"
   ]
  },
  {
   "cell_type": "code",
   "execution_count": 22,
   "metadata": {},
   "outputs": [
    {
     "data": {
      "image/png": "[encoded data removed]",
      "text/plain": [
       "<Figure size 1000x700 with 2 Axes>"
      ]
     },
     "metadata": {},
     "output_type": "display_data"
    }
   ],
   "source": [
    "# Obter as previsões do modelo para o conjunto de teste\n",
    "c45_predictions = evaluation.predictions\n",
    "\n",
    "# Retonar o dataframe\n",
    "c45_predictions_df = evaluation_to_dataframe(c45_predictions)\n",
    "\n",
    "c45_predictions_df.dropna(inplace=True)\n",
    "\n",
    "# Gerar matriz de confusão\n",
    "conf_matrix = confusion_matrix(\n",
    "    c45_predictions_df[\"actual\"], c45_predictions_df[\"predicted\"]\n",
    ")\n",
    "\n",
    "# Criar um gráfico de heatmap com a matriz de confusão\n",
    "plt.figure(figsize=(10, 7))\n",
    "sns.heatmap(conf_matrix, annot=True, fmt=\"g\", cmap=\"Blues\")\n",
    "plt.xlabel(\"Predição\")\n",
    "plt.ylabel(\"Verdadeiro\")\n",
    "plt.title(\"Matriz de Confusão\")\n",
    "plt.show()"
   ]
  },
  {
   "attachments": {},
   "cell_type": "markdown",
   "metadata": {},
   "source": [
    "## REPtree"
   ]
  },
  {
   "cell_type": "code",
   "execution_count": 23,
   "metadata": {},
   "outputs": [],
   "source": [
    "# Instanciar o classificador REPtree\n",
    "reptree = Classifier(classname=\"weka.classifiers.trees.REPTree\")\n",
    "\n",
    "# Treinar o algoritmo usando o conjunto de dados de treinamento\n",
    "reptree.build_classifier(train_data)\n",
    "\n",
    "# Salvar a árvore em formato .dot\n",
    "with open(os.path.join(output_dir, \"reptree.dot\"), \"w\") as f:\n",
    "    f.write(reptree.graph)\n",
    "\n",
    "# Converter o arquivo .dot em um arquivo .pdf\n",
    "os.system(\n",
    "    f\"dot -Tpdf {os.path.join(output_dir, 'reptree.dot')} -o {os.path.join(output_dir, 'reptree.pdf')}\"\n",
    ")\n",
    "\n",
    "os.remove(os.path.join(output_dir, \"reptree.dot\"))"
   ]
  },
  {
   "attachments": {},
   "cell_type": "markdown",
   "metadata": {},
   "source": [
    "### REPTree Accuracy crossvalidate_model\n",
    "Utilizar a validação cruzada no mesmo dataset de treino"
   ]
  },
  {
   "cell_type": "code",
   "execution_count": 24,
   "metadata": {},
   "outputs": [
    {
     "name": "stdout",
     "output_type": "stream",
     "text": [
      "Taxa de acerto geral [REPTree]: 22.74618585298197\n"
     ]
    }
   ],
   "source": [
    "# Avaliar o classificador REPtree usando validação cruzada de 10 folds\n",
    "evaluation = Evaluation(train_data)\n",
    "evaluation.crossvalidate_model(reptree, train_data, 10, Random(1))\n",
    "\n",
    "# Imprimir a taxa de acerto geral do modelo\n",
    "print(\"Taxa de acerto geral [REPTree]:\", evaluation.percent_correct)"
   ]
  },
  {
   "attachments": {},
   "cell_type": "markdown",
   "metadata": {},
   "source": [
    "### REPTree Confusion Matrix crossvalidate_model"
   ]
  },
  {
   "cell_type": "code",
   "execution_count": 25,
   "metadata": {},
   "outputs": [
    {
     "data": {
      "image/png": "[encoded data removed]",
      "text/plain": [
       "<Figure size 1000x700 with 2 Axes>"
      ]
     },
     "metadata": {},
     "output_type": "display_data"
    }
   ],
   "source": [
    "# Obter as previsões do modelo para o conjunto de teste\n",
    "reptree_predictions = evaluation.predictions\n",
    "\n",
    "# Retonar o dataframe\n",
    "reptree_predictions_df = evaluation_to_dataframe(reptree_predictions)\n",
    "\n",
    "# Gerar matriz de confusão\n",
    "conf_matrix = confusion_matrix(\n",
    "    reptree_predictions_df[\"actual\"], reptree_predictions_df[\"predicted\"]\n",
    ")\n",
    "\n",
    "# Criar um gráfico de heatmap com a matriz de confusão\n",
    "plt.figure(figsize=(10, 7))\n",
    "sns.heatmap(conf_matrix, annot=True, fmt=\"g\", cmap=\"Blues\")\n",
    "plt.xlabel(\"Predição\")\n",
    "plt.ylabel(\"Verdadeiro\")\n",
    "plt.title(\"Matriz de Confusão\")\n",
    "plt.show()"
   ]
  },
  {
   "attachments": {},
   "cell_type": "markdown",
   "metadata": {},
   "source": [
    "### REPTree Accuracy test_model\n",
    "Utilizar a validação passando o dados de teste e treinar modelo com todos os dados"
   ]
  },
  {
   "cell_type": "code",
   "execution_count": 26,
   "metadata": {},
   "outputs": [
    {
     "name": "stdout",
     "output_type": "stream",
     "text": [
      "Taxa de acerto geral [REPTree]: 22.1602787456446\n"
     ]
    }
   ],
   "source": [
    "evaluation = Evaluation(test_data)\n",
    "evaluation.test_model(reptree, test_data)\n",
    "\n",
    "# Imprimir a taxa de acerto geral do modelo\n",
    "print(\"Taxa de acerto geral [REPTree]:\", evaluation.percent_correct)"
   ]
  },
  {
   "attachments": {},
   "cell_type": "markdown",
   "metadata": {},
   "source": [
    "### REPTree Confusion Matrix test_model"
   ]
  },
  {
   "cell_type": "code",
   "execution_count": 27,
   "metadata": {},
   "outputs": [
    {
     "data": {
      "image/png": "[encoded data removed]",
      "text/plain": [
       "<Figure size 1000x700 with 2 Axes>"
      ]
     },
     "metadata": {},
     "output_type": "display_data"
    }
   ],
   "source": [
    "# Obter as previsões do modelo para o conjunto de teste\n",
    "reptree_predictions = evaluation.predictions\n",
    "\n",
    "# Adicionar coluna que indica se a previsão foi correta ou não\n",
    "reptree_predictions_df = evaluation_to_dataframe(reptree_predictions)\n",
    "\n",
    "# Gerar matriz de confusão\n",
    "conf_matrix = confusion_matrix(\n",
    "    reptree_predictions_df[\"actual\"], reptree_predictions_df[\"predicted\"]\n",
    ")\n",
    "\n",
    "# Criar um gráfico de heatmap com a matriz de confusão\n",
    "plt.figure(figsize=(10, 7))\n",
    "sns.heatmap(conf_matrix, annot=True, fmt=\"g\", cmap=\"Blues\")\n",
    "plt.xlabel(\"Predição\")\n",
    "plt.ylabel(\"Verdadeiro\")\n",
    "plt.title(\"Matriz de Confusão\")\n",
    "plt.show()"
   ]
  },
  {
   "attachments": {},
   "cell_type": "markdown",
   "metadata": {},
   "source": [
    "## Ripper"
   ]
  },
  {
   "cell_type": "code",
   "execution_count": 28,
   "metadata": {},
   "outputs": [],
   "source": [
    "# Instanciar o classificardo Ripper\n",
    "ripper = Classifier(classname=\"weka.classifiers.rules.JRip\")\n",
    "\n",
    "# Treinar o algoritmo usando o conjunto de dados de treinamento\n",
    "ripper.build_classifier(train_data)\n",
    "\n",
    "# Avaliar o classificador Ripper usando validação cruzada de 10 folds\n",
    "evaluation = Evaluation(test_data)\n",
    "evaluation.crossvalidate_model(ripper, test_data, 10, Random(1))\n",
    "\n",
    "# Salvar as regras em arquivo\n",
    "with open(os.path.join(output_dir, \"ripper_rules.txt\"), \"w\") as f:\n",
    "    f.write(str(ripper))"
   ]
  },
  {
   "attachments": {},
   "cell_type": "markdown",
   "metadata": {},
   "source": [
    "### Ripper Accuracy crossvalidate_model\n",
    "Utilizar a validação cruzada no mesmo dataset de treino"
   ]
  },
  {
   "cell_type": "code",
   "execution_count": 29,
   "metadata": {},
   "outputs": [
    {
     "name": "stdout",
     "output_type": "stream",
     "text": [
      "Taxa de acerto geral [Ripper]: 20.457697642163662\n"
     ]
    }
   ],
   "source": [
    "# Avaliar o classificador REPtree usando validação cruzada de 10 folds\n",
    "evaluation = Evaluation(train_data)\n",
    "evaluation.crossvalidate_model(ripper, train_data, 10, Random(1))\n",
    "\n",
    "# Imprimir a taxa de acerto geral do modelo\n",
    "print(\"Taxa de acerto geral [Ripper]:\", evaluation.percent_correct)"
   ]
  },
  {
   "attachments": {},
   "cell_type": "markdown",
   "metadata": {},
   "source": [
    "### Ripper Confusion Matrix crossvalidate_model"
   ]
  },
  {
   "cell_type": "code",
   "execution_count": 30,
   "metadata": {},
   "outputs": [
    {
     "data": {
      "image/png": "[encoded data removed]",
      "text/plain": [
       "<Figure size 1000x700 with 2 Axes>"
      ]
     },
     "metadata": {},
     "output_type": "display_data"
    }
   ],
   "source": [
    "# Obter as previsões do modelo para o conjunto de teste\n",
    "ripper_predictions = evaluation.predictions\n",
    "\n",
    "# Retonar o dataframe\n",
    "ripper_predictions_df = evaluation_to_dataframe(ripper_predictions)\n",
    "\n",
    "# Gerar matriz de confusão\n",
    "conf_matrix = confusion_matrix(\n",
    "    ripper_predictions_df[\"actual\"], ripper_predictions_df[\"predicted\"]\n",
    ")\n",
    "\n",
    "# Criar um gráfico de heatmap com a matriz de confusão\n",
    "plt.figure(figsize=(10, 7))\n",
    "sns.heatmap(conf_matrix, annot=True, fmt=\"g\", cmap=\"Blues\")\n",
    "plt.xlabel(\"Predição\")\n",
    "plt.ylabel(\"Verdadeiro\")\n",
    "plt.title(\"Matriz de Confusão\")\n",
    "plt.show()"
   ]
  },
  {
   "attachments": {},
   "cell_type": "markdown",
   "metadata": {},
   "source": [
    "### Ripper Accuracy test_model\n",
    "test_model: Utilizar a validação passando o dados de teste e treinar modelo com todos os dados"
   ]
  },
  {
   "cell_type": "code",
   "execution_count": 31,
   "metadata": {},
   "outputs": [
    {
     "name": "stdout",
     "output_type": "stream",
     "text": [
      "Taxa de acerto geral [Ripper]: 20.209059233449477\n"
     ]
    }
   ],
   "source": [
    "evaluation = Evaluation(test_data)\n",
    "evaluation.test_model(ripper, test_data)\n",
    "\n",
    "# Imprimir a taxa de acerto geral do modelo\n",
    "print(\"Taxa de acerto geral [Ripper]:\", evaluation.percent_correct)"
   ]
  },
  {
   "attachments": {},
   "cell_type": "markdown",
   "metadata": {},
   "source": [
    "### Ripper Confusion Matrix test_model"
   ]
  },
  {
   "cell_type": "code",
   "execution_count": 32,
   "metadata": {},
   "outputs": [
    {
     "data": {
      "image/png": "[encoded data removed]",
      "text/plain": [
       "<Figure size 1000x700 with 2 Axes>"
      ]
     },
     "metadata": {},
     "output_type": "display_data"
    }
   ],
   "source": [
    "# Obter as previsões do modelo para o conjunto de teste\n",
    "ripper_predictions = evaluation.predictions\n",
    "\n",
    "# Retonar o dataframe\n",
    "ripper_predictions_df = evaluation_to_dataframe(ripper_predictions)\n",
    "\n",
    "# Gerar matriz de confusão\n",
    "conf_matrix = confusion_matrix(\n",
    "    ripper_predictions_df[\"actual\"], ripper_predictions_df[\"predicted\"]\n",
    ")\n",
    "\n",
    "# Criar um gráfico de heatmap com a matriz de confusão\n",
    "plt.figure(figsize=(10, 7))\n",
    "sns.heatmap(conf_matrix, annot=True, fmt=\"g\", cmap=\"Blues\")\n",
    "plt.xlabel(\"Predição\")\n",
    "plt.ylabel(\"Verdadeiro\")\n",
    "plt.title(\"Matriz de Confusão\")\n",
    "plt.show()"
   ]
  },
  {
   "attachments": {},
   "cell_type": "markdown",
   "metadata": {},
   "source": [
    "## Naive Bayes"
   ]
  },
  {
   "cell_type": "code",
   "execution_count": 33,
   "metadata": {},
   "outputs": [],
   "source": [
    "# Instanciar o classificador Naive Bayes\n",
    "naive_bayes = Classifier(classname=\"weka.classifiers.bayes.NaiveBayes\")\n",
    "\n",
    "# Treinar o algoritmo usando o conjunto de dados de treinamento\n",
    "naive_bayes.build_classifier(train_data)"
   ]
  },
  {
   "attachments": {},
   "cell_type": "markdown",
   "metadata": {},
   "source": [
    "### Naive Bayes Accuracy crossvalidate_model"
   ]
  },
  {
   "cell_type": "code",
   "execution_count": 34,
   "metadata": {},
   "outputs": [
    {
     "name": "stdout",
     "output_type": "stream",
     "text": [
      "Taxa de acerto geral [Naive Bayes]: 24.410540915395284\n"
     ]
    }
   ],
   "source": [
    "# Avaliar o classificador REPtree usando validação cruzada de 10 folds\n",
    "evaluation = Evaluation(train_data)\n",
    "evaluation.crossvalidate_model(naive_bayes, train_data, 10, Random(1))\n",
    "\n",
    "# Imprimir a taxa de acerto geral do modelo\n",
    "print(\"Taxa de acerto geral [Naive Bayes]:\", evaluation.percent_correct)"
   ]
  },
  {
   "attachments": {},
   "cell_type": "markdown",
   "metadata": {},
   "source": [
    "### Naive Bayes Confusion Matrix crossvalidate_model"
   ]
  },
  {
   "cell_type": "code",
   "execution_count": 35,
   "metadata": {},
   "outputs": [
    {
     "data": {
      "image/png": "[encoded data removed]",
      "text/plain": [
       "<Figure size 1000x700 with 2 Axes>"
      ]
     },
     "metadata": {},
     "output_type": "display_data"
    }
   ],
   "source": [
    "# Obter as previsões do modelo para o conjunto de teste\n",
    "naive_bayes_predictions = evaluation.predictions\n",
    "\n",
    "# Retonar o dataframe\n",
    "naive_bayes_predictions_df = evaluation_to_dataframe(naive_bayes_predictions)\n",
    "\n",
    "# Gerar matriz de confusão\n",
    "conf_matrix = confusion_matrix(\n",
    "    naive_bayes_predictions_df[\"actual\"], naive_bayes_predictions_df[\"predicted\"]\n",
    ")\n",
    "\n",
    "# Criar um gráfico de heatmap com a matriz de confusão\n",
    "plt.figure(figsize=(10, 7))\n",
    "sns.heatmap(conf_matrix, annot=True, fmt=\"g\", cmap=\"Blues\")\n",
    "plt.xlabel(\"Predição\")\n",
    "plt.ylabel(\"Verdadeiro\")\n",
    "plt.title(\"Matriz de Confusão\")\n",
    "plt.show()"
   ]
  },
  {
   "attachments": {},
   "cell_type": "markdown",
   "metadata": {},
   "source": [
    "### Naive Bayes Accuracy test_model"
   ]
  },
  {
   "cell_type": "code",
   "execution_count": 36,
   "metadata": {},
   "outputs": [
    {
     "name": "stdout",
     "output_type": "stream",
     "text": [
      "Taxa de acerto geral [Naive Bayes]: 20.83623693379791\n"
     ]
    }
   ],
   "source": [
    "evaluation = Evaluation(test_data)\n",
    "evaluation.test_model(naive_bayes, test_data)\n",
    "\n",
    "# Imprimir a taxa de acerto geral do modelo\n",
    "print(\"Taxa de acerto geral [Naive Bayes]:\", evaluation.percent_correct)"
   ]
  },
  {
   "attachments": {},
   "cell_type": "markdown",
   "metadata": {},
   "source": [
    "### Naive Bayes Confusion Matrix test_model"
   ]
  },
  {
   "cell_type": "code",
   "execution_count": 37,
   "metadata": {},
   "outputs": [
    {
     "data": {
      "image/png": "[encoded data removed]",
      "text/plain": [
       "<Figure size 1000x700 with 2 Axes>"
      ]
     },
     "metadata": {},
     "output_type": "display_data"
    }
   ],
   "source": [
    "# Obter as previsões do modelo para o conjunto de teste\n",
    "naive_bayes_predictions = evaluation.predictions\n",
    "\n",
    "# Adicionar coluna que indica se a previsão foi correta ou não\n",
    "naive_bayes_predictions_df = evaluation_to_dataframe(naive_bayes_predictions)\n",
    "\n",
    "# Gerar matriz de confusão\n",
    "conf_matrix = confusion_matrix(\n",
    "    naive_bayes_predictions_df[\"actual\"], naive_bayes_predictions_df[\"predicted\"]\n",
    ")\n",
    "\n",
    "# Criar um gráfico de heatmap com a matriz de confusão\n",
    "plt.figure(figsize=(10, 7))\n",
    "sns.heatmap(conf_matrix, annot=True, fmt=\"g\", cmap=\"Blues\")\n",
    "plt.xlabel(\"Predição\")\n",
    "plt.ylabel(\"Verdadeiro\")\n",
    "plt.title(\"Matriz de Confusão\")\n",
    "plt.show()"
   ]
  },
  {
   "attachments": {},
   "cell_type": "markdown",
   "metadata": {},
   "source": [
    "## MultiLayerPerceptron"
   ]
  },
  {
   "cell_type": "code",
   "execution_count": 38,
   "metadata": {},
   "outputs": [],
   "source": [
    "# Instanciar o classificador MLP\n",
    "mlp = Classifier(classname=\"weka.classifiers.functions.MultilayerPerceptron\")\n",
    "\n",
    "# Treinar o algoritmo usando o conjunto de dados de treinamento\n",
    "mlp.build_classifier(train_data)"
   ]
  },
  {
   "attachments": {},
   "cell_type": "markdown",
   "metadata": {},
   "source": [
    "### MultiLayerPerceptron Accuracy crossvalidate_model"
   ]
  },
  {
   "cell_type": "code",
   "execution_count": 39,
   "metadata": {},
   "outputs": [
    {
     "name": "stdout",
     "output_type": "stream",
     "text": [
      "Taxa de acerto geral [MLP]: 21.359223300970875\n"
     ]
    }
   ],
   "source": [
    "# Avaliar o classificador MLP usando validação cruzada de 10 folds\n",
    "evaluation = Evaluation(train_data)\n",
    "evaluation.crossvalidate_model(mlp, train_data, 10, Random(1))\n",
    "\n",
    "# Imprimir a taxa de acerto geral do modelo\n",
    "print(\"Taxa de acerto geral [MLP]:\", evaluation.percent_correct)"
   ]
  },
  {
   "attachments": {},
   "cell_type": "markdown",
   "metadata": {},
   "source": [
    "### MultiLayerPerceptron Confusion Matrix crossvalidate_model"
   ]
  },
  {
   "cell_type": "code",
   "execution_count": 40,
   "metadata": {},
   "outputs": [
    {
     "data": {
      "image/png": "[encoded data removed]",
      "text/plain": [
       "<Figure size 1000x700 with 2 Axes>"
      ]
     },
     "metadata": {},
     "output_type": "display_data"
    }
   ],
   "source": [
    "# Obter as previsões do modelo para o conjunto de teste\n",
    "mlp_predictions = evaluation.predictions\n",
    "\n",
    "# Adicionar coluna que indica se a previsão foi correta ou não\n",
    "mlp_predictions_df = evaluation_to_dataframe(mlp_predictions)\n",
    "\n",
    "# Gerar matriz de confusão\n",
    "conf_matrix = confusion_matrix(\n",
    "    mlp_predictions_df[\"actual\"], mlp_predictions_df[\"predicted\"]\n",
    ")\n",
    "\n",
    "# Criar um gráfico de heatmap com a matriz de confusão\n",
    "plt.figure(figsize=(10, 7))\n",
    "sns.heatmap(conf_matrix, annot=True, fmt=\"g\", cmap=\"Blues\")\n",
    "plt.xlabel(\"Predição\")\n",
    "plt.ylabel(\"Verdadeiro\")\n",
    "plt.title(\"Matriz de Confusão\")\n",
    "plt.show()"
   ]
  },
  {
   "attachments": {},
   "cell_type": "markdown",
   "metadata": {},
   "source": [
    "### MultiLayerPerceptron Accuracy test_model"
   ]
  },
  {
   "cell_type": "code",
   "execution_count": 41,
   "metadata": {},
   "outputs": [
    {
     "name": "stdout",
     "output_type": "stream",
     "text": [
      "Taxa de acerto geral [MLP]: 20.975609756097562\n"
     ]
    }
   ],
   "source": [
    "evaluation = Evaluation(test_data)\n",
    "evaluation.test_model(mlp, test_data)\n",
    "\n",
    "# Imprimir a taxa de acerto geral do modelo\n",
    "print(\"Taxa de acerto geral [MLP]:\", evaluation.percent_correct)"
   ]
  },
  {
   "attachments": {},
   "cell_type": "markdown",
   "metadata": {},
   "source": [
    "### MultiLayerPerceptron Confusion Matrix test_model"
   ]
  },
  {
   "cell_type": "code",
   "execution_count": 42,
   "metadata": {},
   "outputs": [
    {
     "data": {
      "image/png": "[encoded data removed]",
      "text/plain": [
       "<Figure size 1000x700 with 2 Axes>"
      ]
     },
     "metadata": {},
     "output_type": "display_data"
    }
   ],
   "source": [
    "# Obter as previsões do modelo para o conjunto de teste\n",
    "mlp_predictions = evaluation.predictions\n",
    "\n",
    "# Adicionar coluna que indica se a previsão foi correta ou não\n",
    "mlp_predictions_df = evaluation_to_dataframe(mlp_predictions)\n",
    "\n",
    "# Gerar matriz de confusão\n",
    "conf_matrix = confusion_matrix(\n",
    "    mlp_predictions_df[\"actual\"], mlp_predictions_df[\"predicted\"]\n",
    ")\n",
    "\n",
    "# Criar um gráfico de heatmap com a matriz de confusão\n",
    "plt.figure(figsize=(10, 7))\n",
    "sns.heatmap(conf_matrix, annot=True, fmt=\"g\", cmap=\"Blues\")\n",
    "plt.xlabel(\"Predição\")\n",
    "plt.ylabel(\"Verdadeiro\")\n",
    "plt.title(\"Matriz de Confusão\")\n",
    "plt.show()"
   ]
  },
  {
   "attachments": {},
   "cell_type": "markdown",
   "metadata": {},
   "source": [
    "## K-Nearest Neighbors (KNN)"
   ]
  },
  {
   "cell_type": "code",
   "execution_count": 43,
   "metadata": {},
   "outputs": [
    {
     "name": "stdout",
     "output_type": "stream",
     "text": [
      "['test.arff', 'train.arff']\n"
     ]
    }
   ],
   "source": [
    "# Diretório do repositório git\n",
    "git_dir = get_git_root(os.getcwd())\n",
    "\n",
    "# Diretório de arquivos de dados\n",
    "data_dir = os.path.join(git_dir, \"data\")\n",
    "\n",
    "# Definir o diretório onde os arquivos estão localizados\n",
    "dir = data_dir\n",
    "\n",
    "# Iterar sobre os arquivos no diretório e verificar se a extensão é .arff\n",
    "arquivos_arff = [arquivo for arquivo in os.listdir(dir) if arquivo.endswith(\".arff\")]\n",
    "\n",
    "\n",
    "# Exibir os arquivos encontrados\n",
    "print(arquivos_arff)\n",
    "\n",
    "\n",
    "if not arquivos_arff in [\"train_knn.arff\", \"test_knn.arff\"]:\n",
    "    # converter dataframe pandas para arquivo arff\n",
    "    pandas2arff(\n",
    "        train.drop(columns=\"SalePriceCategorical\"),\n",
    "        \"train_knn.arff\",\n",
    "        wekaname=\"train_data\",\n",
    "    )\n",
    "    pandas2arff(\n",
    "        test.drop(columns=\"SalePriceCategorical\"), \"test_knn.arff\", wekaname=\"test_data\"\n",
    "    )"
   ]
  },
  {
   "cell_type": "code",
   "execution_count": 44,
   "metadata": {},
   "outputs": [],
   "source": [
    "# Carregar o conjunto de dados\n",
    "loader = Loader(\"weka.core.converters.ArffLoader\")\n",
    "train_knn_data = loader.load_file(os.path.join(data_dir, \"train_knn.arff\"))\n",
    "test_knn_data = loader.load_file(os.path.join(data_dir, \"test_knn.arff\"))\n",
    "\n",
    "# usado para informar ao Weka que a classe é a última coluna do conjunto de dados\n",
    "train_knn_data.class_is_last()\n",
    "test_knn_data.class_is_last()"
   ]
  },
  {
   "attachments": {},
   "cell_type": "markdown",
   "metadata": {},
   "source": [
    "### KNN n = 1"
   ]
  },
  {
   "cell_type": "code",
   "execution_count": 45,
   "metadata": {},
   "outputs": [],
   "source": [
    "# Instanciar o classificador KNN\n",
    "knn_classifier = Classifier(classname=\"weka.classifiers.lazy.IBk\", options=[\"-K\", \"1\"])\n",
    "\n",
    "# Instanciar o classificador KNN\n",
    "knn_regression = Classifier(classname=\"weka.classifiers.lazy.IBk\", options=[\"-K\", \"1\"])\n",
    "\n",
    "\n",
    "# Treinar o algoritmo usando o conjunto de dados de treinamento com variavel dependente categorica\n",
    "knn_classifier.build_classifier(train_data)\n",
    "\n",
    "\n",
    "# Treinar o algoritmo usando o conjunto de dados de treinamento com variavel dependente numerica\n",
    "knn_regression.build_classifier(train_knn_data)"
   ]
  },
  {
   "cell_type": "code",
   "execution_count": 46,
   "metadata": {},
   "outputs": [
    {
     "name": "stdout",
     "output_type": "stream",
     "text": [
      "Taxa de acerto geral [KNN]: 20.73509015256588\n"
     ]
    }
   ],
   "source": [
    "# Avaliar o classificador KNN usando validação cruzada de 10 folds\n",
    "evaluation = Evaluation(train_data)\n",
    "evaluation.crossvalidate_model(knn_classifier, train_data, 10, Random(1))\n",
    "\n",
    "# Imprimir a taxa de acerto geral do modelo\n",
    "print(\"Taxa de acerto geral [KNN]:\", evaluation.percent_correct)"
   ]
  },
  {
   "cell_type": "code",
   "execution_count": 47,
   "metadata": {},
   "outputs": [
    {
     "name": "stdout",
     "output_type": "stream",
     "text": [
      "R^2 [KNN]: 0.815491498943774\n"
     ]
    }
   ],
   "source": [
    "# Avaliar o classificador KNN usando validação cruzada de 10 folds\n",
    "evaluation = Evaluation(train_knn_data)\n",
    "evaluation.crossvalidate_model(knn_regression, train_knn_data, 10, Random(1))\n",
    "\n",
    "# Imprimir a taxa de acerto geral do modelo\n",
    "print(\"R^2 [KNN]:\", evaluation.correlation_coefficient)"
   ]
  },
  {
   "cell_type": "code",
   "execution_count": 48,
   "metadata": {},
   "outputs": [
    {
     "name": "stdout",
     "output_type": "stream",
     "text": [
      "Taxa de acerto geral [KNN]: 20.766550522648085\n"
     ]
    }
   ],
   "source": [
    "# Avaliar o classificador KNN utilizando todo conjunto de treinamento\n",
    "evaluation = Evaluation(test_data)\n",
    "evaluation.test_model(knn_classifier, test_data)\n",
    "\n",
    "# Imprimir a taxa de acerto geral do modelo\n",
    "print(\"Taxa de acerto geral [KNN]:\", evaluation.percent_correct)"
   ]
  },
  {
   "cell_type": "code",
   "execution_count": 49,
   "metadata": {},
   "outputs": [
    {
     "name": "stdout",
     "output_type": "stream",
     "text": [
      "R^2 [KNN]: 0.20142150547046922\n"
     ]
    }
   ],
   "source": [
    "# Avaliar o classificador KNN\n",
    "evaluation = Evaluation(test_knn_data)\n",
    "evaluation.test_model(knn_regression, test_knn_data)\n",
    "\n",
    "# Imprimir a taxa de acerto geral do modelo\n",
    "print(\"R^2 [KNN]:\", evaluation.correlation_coefficient)"
   ]
  },
  {
   "attachments": {},
   "cell_type": "markdown",
   "metadata": {},
   "source": [
    "### KNN n = 5"
   ]
  },
  {
   "cell_type": "code",
   "execution_count": 50,
   "metadata": {},
   "outputs": [],
   "source": [
    "# Instanciar o classificador KNN\n",
    "knn_classifier = Classifier(classname=\"weka.classifiers.lazy.IBk\", options=[\"-K\", \"5\"])\n",
    "\n",
    "# Instanciar o classificador KNN\n",
    "knn_regression = Classifier(classname=\"weka.classifiers.lazy.IBk\", options=[\"-K\", \"5\"])\n",
    "\n",
    "\n",
    "# Treinar o algoritmo usando o conjunto de dados de treinamento com variavel dependente categorica\n",
    "knn_classifier.build_classifier(train_data)\n",
    "\n",
    "\n",
    "# Treinar o algoritmo usando o conjunto de dados de treinamento com variavel dependente numerica\n",
    "knn_regression.build_classifier(train_knn_data)"
   ]
  },
  {
   "cell_type": "code",
   "execution_count": 51,
   "metadata": {},
   "outputs": [
    {
     "name": "stdout",
     "output_type": "stream",
     "text": [
      "Taxa de acerto geral [KNN]: 20.457697642163662\n"
     ]
    }
   ],
   "source": [
    "# Avaliar o classificador KNN usando validação cruzada de 10 folds\n",
    "evaluation = Evaluation(train_data)\n",
    "evaluation.crossvalidate_model(knn_classifier, train_data, 10, Random(1))\n",
    "\n",
    "# Imprimir a taxa de acerto geral do modelo\n",
    "print(\"Taxa de acerto geral [KNN]:\", evaluation.percent_correct)"
   ]
  },
  {
   "cell_type": "code",
   "execution_count": 52,
   "metadata": {},
   "outputs": [
    {
     "name": "stdout",
     "output_type": "stream",
     "text": [
      "R^2 [KNN]: 0.8518774686792974\n"
     ]
    }
   ],
   "source": [
    "# Avaliar o classificador KNN usando validação cruzada de 10 folds\n",
    "evaluation = Evaluation(train_knn_data)\n",
    "evaluation.crossvalidate_model(knn_regression, train_knn_data, 10, Random(1))\n",
    "\n",
    "# Imprimir a taxa de acerto geral do modelo\n",
    "print(\"R^2 [KNN]:\", evaluation.correlation_coefficient)"
   ]
  },
  {
   "cell_type": "code",
   "execution_count": 53,
   "metadata": {},
   "outputs": [
    {
     "name": "stdout",
     "output_type": "stream",
     "text": [
      "Taxa de acerto geral [KNN]: 19.721254355400696\n"
     ]
    }
   ],
   "source": [
    "# Avaliar o classificador KNN utilizando todo conjunto de treinamento\n",
    "evaluation = Evaluation(test_data)\n",
    "evaluation.test_model(knn_classifier, test_data)\n",
    "\n",
    "# Imprimir a taxa de acerto geral do modelo\n",
    "print(\"Taxa de acerto geral [KNN]:\", evaluation.percent_correct)"
   ]
  },
  {
   "cell_type": "code",
   "execution_count": 54,
   "metadata": {},
   "outputs": [
    {
     "name": "stdout",
     "output_type": "stream",
     "text": [
      "R^2 [KNN]: 0.2255994319123064\n"
     ]
    }
   ],
   "source": [
    "# Avaliar o classificador KNN\n",
    "evaluation = Evaluation(test_knn_data)\n",
    "evaluation.test_model(knn_regression, test_knn_data)\n",
    "\n",
    "# Imprimir a taxa de acerto geral do modelo\n",
    "print(\"R^2 [KNN]:\", evaluation.correlation_coefficient)"
   ]
  },
  {
   "cell_type": "code",
   "execution_count": 55,
   "metadata": {},
   "outputs": [],
   "source": [
    "# Encerrar JVM\n",
    "jvm.stop()"
   ]
  },
  {
   "cell_type": "code",
   "execution_count": null,
   "metadata": {},
   "outputs": [],
   "source": []
  }
 ],
 "metadata": {
  "kernelspec": {
   "display_name": ".env",
   "language": "python",
   "name": "python3"
  },
  "language_info": {
   "codemirror_mode": {
    "name": "ipython",
    "version": 3
   },
   "file_extension": ".py",
   "mimetype": "text/x-python",
   "name": "python",
   "nbconvert_exporter": "python",
   "pygments_lexer": "ipython3",
   "version": "3.10.11"
  },
  "orig_nbformat": 4
 },
 "nbformat": 4,
 "nbformat_minor": 2
}
